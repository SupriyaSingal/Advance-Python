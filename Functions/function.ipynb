{
 "cells": [
  {
   "cell_type": "code",
   "execution_count": 158,
   "id": "16dff6d8",
   "metadata": {},
   "outputs": [],
   "source": [
    "def add (x,y):\n",
    "    c= x+y\n",
    "    return (c)"
   ]
  },
  {
   "cell_type": "code",
   "execution_count": 159,
   "id": "18ffc1c4",
   "metadata": {},
   "outputs": [
    {
     "name": "stdout",
     "output_type": "stream",
     "text": [
      "88\n"
     ]
    }
   ],
   "source": [
    "a1=add(34,54)\n",
    "print(a1)"
   ]
  },
  {
   "cell_type": "code",
   "execution_count": 160,
   "id": "6003a6b8",
   "metadata": {},
   "outputs": [],
   "source": [
    "def sub (x,y):\n",
    "    c=y-x\n",
    "    return (c)"
   ]
  },
  {
   "cell_type": "code",
   "execution_count": 161,
   "id": "b022a7da",
   "metadata": {},
   "outputs": [
    {
     "name": "stdout",
     "output_type": "stream",
     "text": [
      "-30\n"
     ]
    }
   ],
   "source": [
    "b1 = sub(78,48)\n",
    "print (b1)"
   ]
  },
  {
   "cell_type": "code",
   "execution_count": 162,
   "id": "cabe9ab6",
   "metadata": {},
   "outputs": [],
   "source": [
    "def add1(*args):\n",
    "    for i in args:\n",
    "        print (i)    \n"
   ]
  },
  {
   "cell_type": "code",
   "execution_count": 163,
   "id": "96070e50",
   "metadata": {},
   "outputs": [],
   "source": [
    "add1 = (24,34,54,64)"
   ]
  },
  {
   "cell_type": "code",
   "execution_count": 164,
   "id": "df2e94a3",
   "metadata": {},
   "outputs": [
    {
     "data": {
      "text/plain": [
       "(24, 34, 54, 64)"
      ]
     },
     "execution_count": 164,
     "metadata": {},
     "output_type": "execute_result"
    }
   ],
   "source": [
    "add1"
   ]
  },
  {
   "cell_type": "code",
   "execution_count": 165,
   "id": "8372ac5e",
   "metadata": {},
   "outputs": [],
   "source": [
    "def add2 (*args):\n",
    "    s=0\n",
    "    for i in args:\n",
    "        s=s+i\n",
    "    return (s)"
   ]
  },
  {
   "cell_type": "code",
   "execution_count": 166,
   "id": "4e1c0ea5",
   "metadata": {},
   "outputs": [
    {
     "data": {
      "text/plain": [
       "1622"
      ]
     },
     "execution_count": 166,
     "metadata": {},
     "output_type": "execute_result"
    }
   ],
   "source": [
    "sum1 =add2(26,374,283,939)\n",
    "sum1"
   ]
  },
  {
   "cell_type": "code",
   "execution_count": 169,
   "id": "e37f4d35",
   "metadata": {},
   "outputs": [],
   "source": [
    "def multiply (x,*args):\n",
    "    s=1\n",
    "    for i in (args):\n",
    "        s=s*i\n",
    "    return (s)\n",
    "\n",
    "    "
   ]
  },
  {
   "cell_type": "code",
   "execution_count": 171,
   "id": "a9f5ee7a",
   "metadata": {},
   "outputs": [
    {
     "data": {
      "text/plain": [
       "13230"
      ]
     },
     "execution_count": 171,
     "metadata": {},
     "output_type": "execute_result"
    }
   ],
   "source": [
    "m1 = multiply (2,5,7,9,2,3,7)\n",
    "m1"
   ]
  },
  {
   "cell_type": "code",
   "execution_count": 174,
   "id": "50c8f829",
   "metadata": {},
   "outputs": [],
   "source": [
    "def multiply (x,*args):\n",
    "    s1=1\n",
    "    for i in (args):\n",
    "        s1=s1*1\n",
    "    return (s1)    "
   ]
  },
  {
   "cell_type": "code",
   "execution_count": 177,
   "id": "aa62e4d4",
   "metadata": {},
   "outputs": [
    {
     "data": {
      "text/plain": [
       "1"
      ]
     },
     "execution_count": 177,
     "metadata": {},
     "output_type": "execute_result"
    }
   ],
   "source": [
    "m2 = multiply (2,5,7,9,4)\n",
    "m2"
   ]
  }
 ],
 "metadata": {
  "kernelspec": {
   "display_name": "venv",
   "language": "python",
   "name": "python3"
  },
  "language_info": {
   "codemirror_mode": {
    "name": "ipython",
    "version": 3
   },
   "file_extension": ".py",
   "mimetype": "text/x-python",
   "name": "python",
   "nbconvert_exporter": "python",
   "pygments_lexer": "ipython3",
   "version": "3.13.3"
  }
 },
 "nbformat": 4,
 "nbformat_minor": 5
}
